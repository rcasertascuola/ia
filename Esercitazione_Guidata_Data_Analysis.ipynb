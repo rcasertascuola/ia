{
 "cells": [
  {
   "cell_type": "markdown",
   "metadata": {},
   "source": [
    "# Esercitazione Guidata: Analisi di Dati con Python e Pandas\n",
    "\n",
    "Benvenuti a questa esercitazione pratica! L'obiettivo di oggi è imparare a esplorare, pulire e visualizzare un dataset reale utilizzando le librerie Python che sono il pane quotidiano di ogni Data Analyst: **Pandas**, **NumPy** e **Matplotlib**.\n",
    "\n",
    "Lavoreremo con il dataset `Dataset Abitudini Sportive`, che raccoglie informazioni sulle abitudini di allenamento di diverse persone. Impareremo a scoprire cosa si nasconde dietro i numeri e a rispondere a domande concrete basate sui dati."
   ]
  },
  {
   "cell_type": "code",
   "execution_count": null,
   "metadata": {},
   "outputs": [],
   "source": [
    "import pandas as pd\n",
    "import numpy as np\n",
    "import matplotlib.pyplot as plt\n",
    "plt.style.use('seaborn-v0_8-whitegrid')"
   ]
  },
  {
   "cell_type": "markdown",
   "metadata": {},
   "source": [
    "## 1. Caricamento e Prima Ispezione del Dataset"
   ]
  },
  {
   "cell_type": "code",
   "execution_count": null,
   "metadata": {},
   "outputs": [],
   "source": [
    "file_path = 'Dataset Abitudini Sportive.csv'\n",
    "df = pd.read_csv(file_path)\n",
    "df_originale = df.copy()"
   ]
  },
  {
   "cell_type": "markdown",
   "metadata": {},
   "source": [
    "### `df.head()` e `df.info()`\n",
    "Diamo una prima occhiata ai dati per avere un'idea delle colonne, dei tipi di dato e dei valori mancanti."
   ]
  },
  {
   "cell_type": "code",
   "execution_count": null,
   "metadata": {},
   "outputs": [],
   "source": [
    "print(\"Prime 5 righe:\")\n",
    "display(df.head())\n",
    "print(\"\\nInformazioni sul DataFrame:\")\n",
    "df.info()"
   ]
  },
  {
   "cell_type": "markdown",
   "metadata": {},
   "source": [
    "## 2. Analisi Esplorativa e Individuazione di Anomalie"
   ]
  },
  {
   "cell_type": "code",
   "execution_count": null,
   "metadata": {},
   "outputs": [],
   "source": [
    "df.describe()"
   ]
  },
  {
   "cell_type": "markdown",
   "metadata": {},
   "source": [
    "### Approfondimento: Identificare Outlier con l'IQR\n",
    "Un valore `min` di `-999` è un chiaro errore. Un metodo statistico per trovare outlier è l'**Interquartile Range (IQR)**."
   ]
  },
  {
   "cell_type": "code",
   "execution_count": null,
   "metadata": {},
   "outputs": [],
   "source": [
    "Q1 = df['ore_settimanali_allenamento'].quantile(0.25)\n",
    "Q3 = df['ore_settimanali_allenamento'].quantile(0.75)\n",
    "IQR = Q3 - Q1\n",
    "limite_inferiore = Q1 - 1.5 * IQR\n",
    "limite_superiore = Q3 + 1.5 * IQR\n",
    "print(f\"Range di normalità per le ore di allenamento: [{limite_inferiore:.2f}, {limite_superiore:.2f}]\")"
   ]
  },
  {
   "cell_type": "markdown",
   "metadata": {},
   "source": [
    "**Esercizio A:** Calcola l'IQR e i limiti per `attrezzatura_comprata_annualmente`."
   ]
  },
  {
   "cell_type": "code",
   "execution_count": null,
   "metadata": {},
   "outputs": [],
   "source": [
    "# Scrivi qui il tuo codice"
   ]
  },
  {
   "cell_type": "markdown",
   "metadata": {},
   "source": [
    "## 3. Pulizia dei Dati\n",
    "Standardizziamo i valori anomali in `np.nan` e convertiamo le colonne in numeriche."
   ]
  },
  {
   "cell_type": "code",
   "execution_count": null,
   "metadata": {},
   "outputs": [],
   "source": [
    "df_pulito = df.copy()\n",
    "df_pulito.replace([-999, '***', ''], np.nan, inplace=True)\n",
    "for col in ['ore_settimanali_allenamento', 'attrezzatura_comprata_annualmente', 'soddisfazione_allenamento', 'Y']:\n",
    "    df_pulito[col] = pd.to_numeric(df_pulito[col], errors='coerce')\n",
    "df_pulito.isnull().sum()"
   ]
  },
  {
   "cell_type": "markdown",
   "metadata": {},
   "source": [
    "### Strategie per Gestire i Dati Mancanti\n",
    "**Strategia 1: Eliminazione (`dropna`)** - Rimuove le righe con NaN. Rischioso se si perdono troppi dati."
   ]
  },
  {
   "cell_type": "code",
   "execution_count": null,
   "metadata": {},
   "outputs": [],
   "source": [
    "print(f\"Forma originale: {df_pulito.shape}\")\n",
    "print(f\"Forma dopo dropna(): {df_pulito.dropna().shape}\")"
   ]
  },
  {
   "cell_type": "markdown",
   "metadata": {},
   "source": [
    "**Strategia 2: Imputazione (Media/Mediana/Moda)** - Sostituisce i NaN con un valore. Useremo questo approccio."
   ]
  },
  {
   "cell_type": "code",
   "execution_count": null,
   "metadata": {},
   "outputs": [],
   "source": [
    "for colonna in df_pulito.columns:\n",
    "    if df_pulito[colonna].isnull().any():\n",
    "        if pd.api.types.is_numeric_dtype(df_pulito[colonna]):\n",
    "            df_pulito[colonna].fillna(df_pulito[colonna].median(), inplace=True)\n",
    "        else:\n",
    "            df_pulito[colonna].fillna(df_pulito[colonna].mode()[0], inplace=True)\n",
    "df_pulito.isnull().sum()"
   ]
  },
  {
   "cell_type": "markdown",
   "metadata": {},
   "source": [
    "## 4. Visualizzazione: L'Importanza della Pulizia"
   ]
  },
  {
   "cell_type": "markdown",
   "metadata": {},
   "source": [
    "### Guida alla Scelta del Grafico\n",
    "- **Istogramma**: Ottimo per vedere la **distribuzione** di una variabile numerica (es. `ore_settimanali_allenamento`). Mostra dove si concentrano i valori.\n",
    "- **Grafico a Barre**: Perfetto per confrontare le **frequenze** di una variabile categorica (es. `obiettivo_allenamento_label`). Mostra quale categoria è la più comune."
   ]
  },
  {
   "cell_type": "code",
   "execution_count": null,
   "metadata": {},
   "outputs": [],
   "source": [
    "fig, axes = plt.subplots(1, 2, figsize=(15, 6))\n",
    "axes[0].hist(df_originale['ore_settimanali_allenamento'], bins=30, color='red')\n",
    "axes[0].set_title('PRIMA della Pulizia')\n",
    "axes[1].hist(df_pulito['ore_settimanali_allenamento'], bins=15, color='green')\n",
    "axes[1].set_title('DOPO la Pulizia')\n",
    "plt.show()"
   ]
  },
  {
   "cell_type": "markdown",
   "metadata": {},
   "source": [
    "**Esercizio B:** Crea un confronto \"Prima e Dopo\" per `attrezzatura_comprata_annualmente`."
   ]
  },
  {
   "cell_type": "code",
   "execution_count": null,
   "metadata": {},
   "outputs": [],
   "source": [
    "# Scrivi qui il tuo codice"
   ]
  },
  {
   "cell_type": "code",
   "execution_count": null,
   "metadata": {},
   "outputs": [],
   "source": [
    "df_pulito['obiettivo_allenamento_label'].value_counts().plot(kind='bar', figsize=(10,6), title='Frequenza Obiettivi di Allenamento')\n",
    "plt.show()\n",
    "df_pulito['tempo_riposo_settimanale_label'].value_counts().plot(kind='bar', figsize=(10,6), title='Frequenza Riposo Settimanale', color='skyblue')\n",
    "plt.show()"
   ]
  },
  {
   "cell_type": "markdown",
   "metadata": {},
   "source": [
    "## 5. Verifica delle Ipotesi"
   ]
  },
  {
   "cell_type": "code",
   "execution_count": null,
   "metadata": {},
   "outputs": [],
   "source": [
    "print(df_pulito.groupby('obiettivo_allenamento_label')['attrezzatura_comprata_annualmente'].agg(['mean', 'median']))"
   ]
  },
  {
   "cell_type": "markdown",
   "metadata": {},
   "source": [
    "**Interpretazione:** I dati supportano fortemente l'ipotesi. La spesa media per 'Miglioramento muscolare' è di 227.81 €, contro i 171.74 € per 'Perdita peso'. La differenza è ancora più marcata nella mediana (226.50 € vs 160.00 €), il che ci dice che la tendenza non è dovuta a pochi valori estremi. Questo suggerisce che raggiungere obiettivi di massa muscolare richiede mediamente un investimento economico superiore."
   ]
  },
  {
   "cell_type": "code",
   "execution_count": null,
   "metadata": {},
   "outputs": [],
   "source": [
    "df_pulito.groupby('frequenza_allenamento')['soddisfazione_allenamento'].mean().plot(kind='bar', figsize=(10,6), title='Soddisfazione Media per Frequenza di Allenamento')\n",
    "plt.ylabel('Soddisfazione Media (1-10)')\n",
    "plt.show()"
   ]
  },
  {
   "cell_type": "markdown",
   "metadata": {},
   "source": [
    "**Interpretazione:** Il grafico mostra una relazione quasi lineare: all'aumentare dei giorni di allenamento, la soddisfazione media cresce costantemente. Si passa da una media di ~5.6 per chi si allena 1-2 volte a settimana a oltre 8 per chi si allena 6-7 volte. L'ipotesi è chiaramente confermata dai dati."
   ]
  },
  {
   "cell_type": "markdown",
   "metadata": {},
   "source": [
    "## Soluzioni"
   ]
  },
  {
   "cell_type": "code",
   "execution_count": null,
   "metadata": {},
   "outputs": [],
   "source": [
    "Q1 = df['attrezzatura_comprata_annualmente'].quantile(0.25)\n",
    "Q3 = df['attrezzatura_comprata_annualmente'].quantile(0.75)\n",
    "IQR = Q3 - Q1\n",
    "limite_inferiore = Q1 - 1.5 * IQR\n",
    "limite_superiore = Q3 + 1.5 * IQR\n",
    "print(f\"Soluzione Esercizio A: Range di normalità: [{limite_inferiore:.2f}, {limite_superiore:.2f}]\")"
   ]
  },
  {
   "cell_type": "code",
   "execution_count": null,
   "metadata": {},
   "outputs": [],
   "source": [
    "print(\"Soluzione Esercizio B:\")\n",
    "fig, axes = plt.subplots(1, 2, figsize=(15, 6))\n",
    "axes[0].hist(df_originale['attrezzatura_comprata_annualmente'], bins=30, color='orange')\n",
    "axes[0].set_title('PRIMA')\n",
    "axes[1].hist(df_pulito['attrezzatura_comprata_annualmente'], bins=15, color='blue')\n",
    "axes[1].set_title('DOPO')\n",
    "plt.show()"
   ]
  }
 ],
 "metadata": {
  "kernelspec": {
   "display_name": "Python 3",
   "language": "python",
   "name": "python3"
  },
  "language_info": {
   "codemirror_mode": {
    "name": "ipython",
    "version": 3
   },
   "file_extension": ".py",
   "mimetype": "text/x-python",
   "name": "python",
   "nbconvert_exporter": "python",
   "pygments_lexer": "ipython3",
   "version": "3.10.9"
  }
 },
 "nbformat": 4,
 "nbformat_minor": 5
}