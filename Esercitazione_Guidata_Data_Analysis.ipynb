{
 "cells": [
  {
   "cell_type": "markdown",
   "metadata": {},
   "source": [
    "# Esercitazione Guidata: Analisi di Dati con Python e Pandas\n",
    "\n",
    "Benvenuti a questa esercitazione pratica! L'obiettivo di oggi è imparare a esplorare, pulire e visualizzare un dataset reale utilizzando le librerie Python che sono il pane quotidiano di ogni Data Analyst: **Pandas**, **NumPy** e **Matplotlib**.\n",
    "\n",
    "Lavoreremo con il dataset `Dataset Abitudini Sportive`, che raccoglie informazioni sulle abitudini di allenamento di diverse persone. Impareremo a scoprire cosa si nasconde dietro i numeri e a rispondere a domande concrete basate sui dati."
   ]
  },
  {
   "cell_type": "code",
   "execution_count": null,
   "metadata": {},
   "outputs": [],
   "source": [
    "# Importiamo le librerie che ci servono\n",
    "import pandas as pd\n",
    "import numpy as np\n",
    "import matplotlib.pyplot as plt\n",
    "\n",
    "# Un piccolo comando per migliorare lo stile dei grafici\n",
    "plt.style.use('seaborn-v0_8-whitegrid')"
   ]
  },
  {
   "cell_type": "markdown",
   "metadata": {},
   "source": [
    "## 1. Caricamento del Dataset\n",
    "\n",
    "Per prima cosa, dobbiamo caricare i nostri dati. Assicurati di aver caricato il file `Dataset Abitudini Sportive.csv` nella sessione di Colab (puoi semplicemente trascinarlo nella cartella a sinistra)."
   ]
  },
  {
   "cell_type": "code",
   "execution_count": null,
   "metadata": {},
   "outputs": [],
   "source": [
    "# Specifichiamo il nome del file\n",
    "file_path = 'Dataset Abitudini Sportive.csv'\n",
    "\n",
    "# Carichiamo il file CSV in un DataFrame di Pandas\n",
    "df = pd.read_csv(file_path)\n",
    "\n",
    "# Creiamo una copia del DataFrame originale che useremo più avanti\n",
    "df_originale = df.copy()"
   ]
  },
  {
   "cell_type": "markdown",
   "metadata": {},
   "source": [
    "## 2. Analisi Esplorativa Iniziale\n",
    "\n",
    "Ora che i dati sono caricati, diamo una prima occhiata per capire con cosa abbiamo a che fare. È come aprire il cofano di una macchina per la prima volta: non capiremo subito tutto, ma ci faremo un'idea generale."
   ]
  },
  {
   "cell_type": "markdown",
   "metadata": {},
   "source": [
    "### `df.head()` - Le prime 5 righe\n",
    "Il comando `head()` ci mostra un'anteprima del dataset, utilissima per capire al volo quali sono le colonne e che tipo di dati contengono."
   ]
  },
  {
   "cell_type": "code",
   "execution_count": null,
   "metadata": {},
   "outputs": [],
   "source": [
    "df.head()"
   ]
  },
  {
   "cell_type": "markdown",
   "metadata": {},
   "source": [
    "### `df.info()` - Informazioni sul DataFrame\n",
    "Il metodo `info()` è fondamentale. Ci fornisce una sintesi delle colonne, il numero di valori non nulli e il tipo di dato (Dtype) di ogni colonna. È il nostro primo strumento per scovare eventuali problemi, come dati mancanti o tipi di dato sbagliati."
   ]
  },
  {
   "cell_type": "code",
   "execution_count": null,
   "metadata": {},
   "outputs": [],
   "source": [
    "df.info()"
   ]
  },
  {
   "cell_type": "markdown",
   "metadata": {},
   "source": [
    "### `df.describe()` - Statistiche di base\n",
    "Con `describe()`, otteniamo un riassunto statistico per tutte le colonne numeriche: media, deviazione standard, minimo, massimo e i percentili. Questo ci aiuta a capire la distribuzione dei dati e a identificare possibili valori anomali (outlier)."
   ]
  },
  {
   "cell_type": "code",
   "execution_count": null,
   "metadata": {},
   "outputs": [],
   "source": [
    "df.describe()"
   ]
  },
  {
   "cell_type": "markdown",
   "metadata": {},
   "source": [
    "### Interpretazione delle Statistiche: Dove si nascondono i dati sporchi?\n",
    "\n",
    "Osserviamo attentamente l'output di `describe()`. Questa tabella è una miniera d'oro per scovare problemi.\n",
    "- **`count`**: Notiamo che alcune colonne hanno meno di 1000 valori. Questo conferma la presenza di dati mancanti che `info()` aveva già suggerito.\n",
    "- **`mean` (media)**: Guardiamo la media di `ore_settimanali_allenamento`. Sembra molto bassa, quasi sospetta. Una media così bassa potrebbe essere \"abbassata\" da valori estremamente piccoli e anomali.\n",
    "- **`min` (minimo)**: Ecco il campanello d'allarme più evidente! Colonne come `ore_settimanali_allenamento` e `attrezzatura_comprata_annualmente` mostrano un valore minimo di `-999`. È fisicamente impossibile allenarsi per un numero negativo di ore o spendere una cifra negativa. Questo è un chiaro segno di un valore usato per codificare \"dato mancante\" o \"non applicabile\".\n",
    "- **`max` (massimo)**: I valori massimi sembrano plausibili, ma è sempre bene controllarli per vedere se ci sono valori esagerati (es. 200 ore di allenamento a settimana).\n",
    "\n",
    "--- \n",
    "**Domanda 1:** Osservando la tabella `describe()`, quali altre colonne, oltre a `ore_settimanali_allenamento`, presentano un valore minimo anomalo di `-999`? Elencale."
   ]
  },
  {
   "cell_type": "markdown",
   "metadata": {},
   "source": [
    "## 3. Pulizia e Gestione dei Dati Mancanti\n",
    "\n",
    "Abbiamo confermato che il nostro dataset è \"sporco\". Prima di poter fare analisi affidabili, dobbiamo pulirlo. Il primo passo è standardizzare tutti i valori mancanti in un formato che Pandas possa riconoscere: `np.nan` (Not a Number)."
   ]
  },
  {
   "cell_type": "code",
   "execution_count": null,
   "metadata": {},
   "outputs": [],
   "source": [
    "# Copiamo il dataframe per sicurezza, così possiamo confrontare i risultati\n",
    "df_pulito = df.copy()\n",
    "\n",
    "# 1. Standardizziamo i valori mancanti\n",
    "df_pulito.replace([-999, '***', ''], np.nan, inplace=True)\n",
    "\n",
    "# 2. Correggiamo i tipi di dato\n",
    "colonne_numeriche = ['ore_settimanali_allenamento', 'frequenza_allenamento', 'soddisfazione_allenamento', 'attrezzatura_comprata_annualmente', 'frequenza_infortuni', 'alimentazione_durante_allenamento', 'tempo_riposo_settimanale', 'Y']\n",
    "for colonna in colonne_numeriche:\n",
    "    df_pulito[colonna] = pd.to_numeric(df_pulito[colonna], errors='coerce')\n",
    "\n",
    "# 3. Verifichiamo il risultato\n",
    "print(\"Dati mancanti dopo la standardizzazione:\")\n",
    "df_pulito.isnull().sum()"
   ]
  },
  {
   "cell_type": "markdown",
   "metadata": {},
   "source": [
    "### Strategie per Gestire i Dati Mancanti\n",
    "Ora che tutti i dati mancanti sono `NaN`, cosa facciamo? Esistono diverse strategie, ognuna con i suoi pro e contro. Vediamone due."
   ]
  },
  {
   "cell_type": "markdown",
   "metadata": {},
   "source": [
    "#### Strategia 1: Eliminazione delle Righe (Poco consigliata)\n",
    "La soluzione più semplice è eliminare ogni riga che contiene anche solo un valore mancante. Si usa il comando `dropna()`.\n",
    "\n",
    "**Pro:** È facile e veloce.\n",
    "**Contro:** Si rischia di perdere una grande quantità di dati! Se una riga ha 9 valori su 10 e ne manca solo uno, la eliminiamo comunque, sprecando informazioni preziose."
   ]
  },
  {
   "cell_type": "code",
   "execution_count": null,
   "metadata": {},
   "outputs": [],
   "source": [
    "# Vediamo quante righe rimarrebbero se usassimo dropna()\n",
    "righe_originali = len(df_pulito)\n",
    "righe_dopo_drop = len(df_pulito.dropna())\n",
    "\n",
    "print(f\"Righe originali: {righe_originali}\")\n",
    "print(f\"Righe dopo aver eliminato i NaN: {righe_dopo_drop}\")\n",
    "print(f\"Percentuale di dati persi: {((righe_originali - righe_dopo_drop) / righe_originali) * 100:.2f}%\")"
   ]
  },
  {
   "cell_type": "markdown",
   "metadata": {},
   "source": [
    "Come puoi vedere, perderemmo quasi un quarto del dataset! Per questo motivo, questa strategia è sconsigliata a meno che i dati mancanti non siano pochissimi."
   ]
  },
  {
   "cell_type": "markdown",
   "metadata": {},
   "source": [
    "#### Strategia 2: Imputazione (La scelta migliore qui)\n",
    "L'imputazione consiste nel **sostituire** i valori mancanti con una stima plausibile. Le stime più comuni per le colonne numeriche sono la **media** o la **mediana** della colonna stessa.\n",
    "\n",
    "- **Media:** Ottima se i dati hanno una distribuzione simmetrica (a campana) e non ci sono troppi outlier.\n",
    "- **Mediana:** Molto più robusta in presenza di outlier o distribuzioni asimmetriche, perché rappresenta il valore centrale.\n",
    "\n",
    "Sostituiamo i `NaN` nella colonna `ore_settimanali_allenamento` con la sua **mediana**."
   ]
  },
  {
   "cell_type": "code",
   "execution_count": null,
   "metadata": {},
   "outputs": [],
   "source": [
    "# 1. Calcoliamo la mediana\n",
    "mediana_ore = df_pulito['ore_settimanali_allenamento'].median()\n",
    "print(f\"La mediana delle ore di allenamento è: {mediana_ore}\")\n",
    "\n",
    "# 2. Usiamo il metodo fillna() per sostituire i NaN\n",
    "df_pulito['ore_settimanali_allenamento'].fillna(mediana_ore, inplace=True)\n",
    "\n",
    "# 3. Verifichiamo che non ci siano più NaN in quella colonna\n",
    "print(\"\\nValori mancanti dopo l'imputazione:\")\n",
    "df_pulito.isnull().sum()"
   ]
  },
  {
   "cell_type": "markdown",
   "metadata": {},
   "source": [
    "--- \n",
    "**Esercizio 1:** Ora tocca a te! La colonna `attrezzatura_comprata_annualmente` ha ancora dei valori mancanti. Completa il codice qui sotto per sostituire i `NaN` con la **media** di quella colonna."
   ]
  },
  {
   "cell_type": "code",
   "execution_count": null,
   "metadata": {},
   "outputs": [],
   "source": [
    "# Completa il codice\n",
    "media_attrezzatura = df_pulito['attrezzatura_comprata_annualmente'].mean() # Calcola la media\n",
    "df_pulito['attrezzatura_comprata_annualmente'].fillna(media_attrezzatura, inplace=True) # Sostituisci i NaN\n",
    "\n",
    "# Codice di verifica (non modificarlo)\n",
    "if df_pulito['attrezzatura_comprata_annualmente'].isnull().sum() == 0:\n",
    "    print(\"Ottimo lavoro! I valori mancanti sono stati riempiti.\")\n",
    "else:\n",
    "    print(\"Riprova, ci sono ancora dei valori mancanti.\")"
   ]
  },
  {
   "cell_type": "markdown",
   "metadata": {},
   "source": [
    "### Completamento della Pulizia\n",
    "\n",
    "Ottimo lavoro! Abbiamo gestito due colonne, ma ne rimangono altre con dati mancanti. Un buon data analyst deve assicurarsi che il dataset sia **completamente pulito** prima di procedere. Applichiamo una strategia di imputazione a tutte le colonne rimanenti.\n",
    "\n",
    "- Per le colonne **numeriche**, useremo la **mediana** (più robusta).\n",
    "- Per le colonne **categoriche** (testuali), useremo la **moda**, ovvero il valore più frequente."
   ]
  },
  {
   "cell_type": "code",
   "execution_count": null,
   "metadata": {},
   "outputs": [],
   "source": [
    "# Selezioniamo le colonne rimanenti con NaN\n",
    "colonne_con_nan = df_pulito.columns[df_pulito.isnull().any()].tolist()\n",
    "print(f\"Colonne ancora da pulire: {colonne_con_nan}\")\n",
    "\n",
    "# Usiamo un ciclo per applicare l'imputazione appropriata a ciascuna\n",
    "for colonna in colonne_con_nan:\n",
    "    if pd.api.types.is_numeric_dtype(df_pulito[colonna]):\n",
    "        # Se la colonna è numerica, usiamo la mediana\n",
    "        mediana = df_pulito[colonna].median()\n",
    "        df_pulito[colonna].fillna(mediana, inplace=True)\n",
    "        print(f\"Imputati i valori in '{colonna}' (numerica) con la mediana ({mediana}).\")\n",
    "    else:\n",
    "        # Se la colonna è categorica, usiamo la moda\n",
    "        moda = df_pulito[colonna].mode()[0] # .mode() restituisce una Serie, prendiamo il primo elemento\n",
    "        df_pulito[colonna].fillna(moda, inplace=True)\n",
    "        print(f\"Imputati i valori in '{colonna}' (categorica) con la moda ('{moda}').\")\n",
    "\n",
    "# Verifica finale\n",
    "print(\"\\nVerifica finale dei dati mancanti:\")\n",
    "df_pulito.isnull().sum()"
   ]
  },
  {
   "cell_type": "markdown",
   "metadata": {},
   "source": [
    "Perfetto! Ora il nostro DataFrame `df_pulito` non ha più valori mancanti ed è pronto per essere analizzato e visualizzato in modo affidabile."
   ]
  },
  {
   "cell_type": "markdown",
   "metadata": {},
   "source": [
    "## 4. Visualizzazione dei Dati\n",
    "\n",
    "I grafici sono il modo migliore per \"vedere\" i dati e scoprire pattern che i numeri da soli non mostrano. Creeremo alcuni grafici di base per esplorare le colonne più interessanti del nostro dataset pulito."
   ]
  },
  {
   "cell_type": "markdown",
   "metadata": {},
   "source": [
    "### Istogramma - Distribuzione delle ore di allenamento\n",
    "Un istogramma è perfetto per visualizzare la distribuzione di una variabile numerica, come le ore di allenamento settimanali. Ci mostra quante persone rientrano in ciascun \"intervallo\" di ore."
   ]
  },
  {
   "cell_type": "code",
   "execution_count": null,
   "metadata": {},
   "outputs": [],
   "source": [
    "plt.figure(figsize=(10, 6))\n",
    "df_pulito['ore_settimanali_allenamento'].hist(bins=15, edgecolor='black')\n",
    "plt.title('Distribuzione delle Ore di Allenamento Settimanali')\n",
    "plt.xlabel('Ore di Allenamento')\n",
    "plt.ylabel('Numero di Persone')\n",
    "plt.show()"
   ]
  },
  {
   "cell_type": "markdown",
   "metadata": {},
   "source": [
    "### Grafico a Barre - Obiettivi di Allenamento\n",
    "Un grafico a barre è l'ideale per le variabili categoriche. Lo useremo per contare quante persone hanno ciascun obiettivo di allenamento."
   ]
  },
  {
   "cell_type": "code",
   "execution_count": null,
   "metadata": {},
   "outputs": [],
   "source": [
    "plt.figure(figsize=(12, 7))\n",
    "df_pulito['obiettivo_allenamento_label'].value_counts().plot(kind='bar', color='skyblue')\n",
    "plt.title('Frequenza degli Obiettivi di Allenamento')\n",
    "plt.xlabel('Obiettivo')\n",
    "plt.ylabel('Numero di Persone')\n",
    "plt.xticks(rotation=45, ha='right')\n",
    "plt.tight_layout() # Aggiusta il layout per non tagliare le etichette\n",
    "plt.show()"
   ]
  },
  {
   "cell_type": "markdown",
   "metadata": {},
   "source": [
    "--- \n",
    "**Esercizio 2:** Abbiamo visto come creare un grafico a barre per gli obiettivi. Ora crea tu un grafico a barre per la colonna `tempo_riposo_settimanale_label`. Ricordati di dare un titolo e nomi appropriati agli assi!"
   ]
  },
  {
   "cell_type": "code",
   "execution_count": null,
   "metadata": {},
   "outputs": [],
   "source": [
    "# Scrivi qui il tuo codice per creare il grafico a barre\n"
   ]
  },
  {
   "cell_type": "markdown",
   "metadata": {},
   "source": [
    "## 5. Formulazione e Verifica di Ipotesi\n",
    "\n",
    "Questa è la parte più divertente: usare i dati per rispondere a delle domande! Formuliamo due semplici ipotesi e vediamo se i dati le confermano."
   ]
  },
  {
   "cell_type": "markdown",
   "metadata": {},
   "source": [
    "### Ipotesi 1: Chi punta alla perdita di peso compra meno attrezzatura di chi punta al miglioramento muscolare?\n",
    "\n",
    "**Logica:** Vogliamo confrontare la media di `attrezzatura_comprata_annualmente` per due gruppi specifici. Per farlo, dobbiamo:\n",
    "1.  Filtrare il DataFrame per selezionare solo le righe che ci interessano.\n",
    "2.  Calcolare la media per ciascun gruppo."
   ]
  },
  {
   "cell_type": "code",
   "execution_count": null,
   "metadata": {},
   "outputs": [],
   "source": [
    "# Filtriamo i due gruppi\n",
    "gruppo_perdita_peso = df_pulito[df_pulito['obiettivo_allenamento_label'] == 'Perdita peso']\n",
    "gruppo_massa_muscolare = df_pulito[df_pulito['obiettivo_allenamento_label'] == 'Miglioramento muscolare']\n",
    "\n",
    "# Calcoliamo la media per ciascun gruppo\n",
    "media_peso = gruppo_perdita_peso['attrezzatura_comprata_annualmente'].mean()\n",
    "media_massa = gruppo_massa_muscolare['attrezzatura_comprata_annualmente'].mean()\n",
    "\n",
    "print(f\"Media spesa per attrezzatura (Perdita peso): {media_peso:.2f} €\")\n",
    "print(f\"Media spesa per attrezzatura (Miglioramento muscolare): {media_massa:.2f} €\")"
   ]
  },
  {
   "cell_type": "markdown",
   "metadata": {},
   "source": [
    "--- \n",
    "**Esercizio 3:** Abbiamo confrontato la media, ma forse la **mediana** è una metrica più robusta in questo caso. Modifica il codice qui sopra per calcolare e stampare la **mediana** della spesa per attrezzatura per i due gruppi. Cosa noti di diverso rispetto alla media?"
   ]
  },
  {
   "cell_type": "code",
   "execution_count": null,
   "metadata": {},
   "outputs": [],
   "source": [
    "# Scrivi qui il codice modificato per calcolare la mediana\n"
   ]
  },
  {
   "cell_type": "markdown",
   "metadata": {},
   "source": [
    "### Ipotesi 2: C'è una relazione tra la frequenza di allenamento e la soddisfazione?\n",
    "\n",
    "**Logica:** Vogliamo vedere se, in media, le persone che si allenano più spesso sono anche più soddisfatte. Il metodo `groupby()` è perfetto per questo: raggruppa tutte le righe in base a una colonna (la frequenza) e ci permette di calcolare una statistica (la media della soddisfazione) per ogni gruppo."
   ]
  },
  {
   "cell_type": "code",
   "execution_count": null,
   "metadata": {},
   "outputs": [],
   "source": [
    "# Raggruppiamo per frequenza e calcoliamo la soddisfazione media\n",
    "soddisfazione_per_frequenza = df_pulito.groupby('frequenza_allenamento')['soddisfazione_allenamento'].mean()\n",
    "\n",
    "print(\"Soddisfazione media per frequenza di allenamento:\")\n",
    "print(soddisfazione_per_frequenza)"
   ]
  },
  {
   "cell_type": "markdown",
   "metadata": {},
   "source": [
    "# --- SOLUZIONI ---\n",
    "--- \n",
    "---"
   ]
  },
  {
   "cell_type": "markdown",
   "metadata": {},
   "source": [
    "## Soluzioni degli Esercizi"
   ]
  },
  {
   "cell_type": "markdown",
   "metadata": {},
   "source": [
    "### Risposta alla Domanda 1\n",
    "Le colonne che presentano un valore minimo di -999 sono: `ore_settimanali_allenamento`, `soddisfazione_allenamento`, `attrezzatura_comprata_annualmente`, `frequenza_infortuni`, `alimentazione_durante_allenamento`, `tempo_riposo_settimanale` e `Y`."
   ]
  },
  {
   "cell_type": "markdown",
   "metadata": {},
   "source": [
    "### Soluzione Esercizio 1"
   ]
  },
  {
   "cell_type": "code",
   "execution_count": null,
   "metadata": {},
   "outputs": [],
   "source": [
    "# Calcola la media\n",
    "media_attrezzatura = df_pulito['attrezzatura_comprata_annualmente'].mean()\n",
    "# Sostituisci i NaN\n",
    "df_pulito['attrezzatura_comprata_annualmente'].fillna(media_attrezzatura, inplace=True)\n",
    "\n",
    "print(\"Verifica per l'esercizio 1:\")\n",
    "if df_pulito['attrezzatura_comprata_annualmente'].isnull().sum() == 0:\n",
    "    print(\"Corretto! I valori mancanti sono stati riempiti.\")\n",
    "else:\n",
    "    print(\"Qualcosa è andato storto.\")"
   ]
  },
  {
   "cell_type": "markdown",
   "metadata": {},
   "source": [
    "### Soluzione Esercizio 2"
   ]
  },
  {
   "cell_type": "code",
   "execution_count": null,
   "metadata": {},
   "outputs": [],
   "source": [
    "plt.figure(figsize=(10, 6))\n",
    "df_pulito['tempo_riposo_settimanale_label'].value_counts().plot(kind='bar', color='lightgreen')\n",
    "plt.title('Frequenza del Riposo Settimanale')\n",
    "plt.xlabel('Giorni di Riposo')\n",
    "plt.ylabel('Numero di Persone')\n",
    "plt.xticks(rotation=0)\n",
    "plt.show()"
   ]
  },
  {
   "cell_type": "markdown",
   "metadata": {},
   "source": [
    "### Soluzione Esercizio 3"
   ]
  },
  {
   "cell_type": "code",
   "execution_count": null,
   "metadata": {},
   "outputs": [],
   "source": [
    "# Calcoliamo la mediana per ciascun gruppo\n",
    "mediana_peso = gruppo_perdita_peso['attrezzatura_comprata_annualmente'].median()\n",
    "mediana_massa = gruppo_massa_muscolare['attrezzatura_comprata_annualmente'].median()\n",
    "\n",
    "print(f\"Mediana spesa per attrezzatura (Perdita peso): {mediana_peso:.2f} €\")\n",
    "print(f\"Mediana spesa per attrezzatura (Miglioramento muscolare): {mediana_massa:.2f} €\")"
   ]
  }
 ],
 "metadata": {
  "kernelspec": {
   "display_name": "Python 3",
   "language": "python",
   "name": "python3"
  },
  "language_info": {
   "codemirror_mode": {
    "name": "ipython",
    "version": 3
   },
   "file_extension": ".py",
   "mimetype": "text/x-python",
   "name": "python",
   "nbconvert_exporter": "python",
   "pygments_lexer": "ipython3",
   "version": "3.10.9"
  }
 },
 "nbformat": 4,
 "nbformat_minor": 5
}