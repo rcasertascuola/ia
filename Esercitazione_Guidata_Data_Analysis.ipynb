{
 "cells": [
  {
   "cell_type": "markdown",
   "metadata": {},
   "source": [
    "# Esercitazione Guidata: Analisi di Dati con Python e Pandas\n",
    "\n",
    "Benvenuti a questa esercitazione pratica! L'obiettivo di oggi è imparare a esplorare, pulire e visualizzare un dataset reale utilizzando le librerie Python che sono il pane quotidiano di ogni Data Analyst: **Pandas**, **NumPy** e **Matplotlib**.\n",
    "\n",
    "Lavoreremo con il dataset `Dataset Abitudini Sportive`, che raccoglie informazioni sulle abitudini di allenamento di diverse persone. Impareremo a scoprire cosa si nasconde dietro i numeri e a rispondere a domande concrete basate sui dati."
   ]
  },
  {
   "cell_type": "code",
   "execution_count": null,
   "metadata": {},
   "outputs": [],
   "source": [
    "import pandas as pd\n",
    "import numpy as np\n",
    "import matplotlib.pyplot as plt\n",
    "plt.style.use('seaborn-v0_8-whitegrid')"
   ]
  },
  {
   "cell_type": "markdown",
   "metadata": {},
   "source": [
    "## 1. Caricamento e Prima Ispezione del Dataset"
   ]
  },
  {
   "cell_type": "code",
   "execution_count": null,
   "metadata": {},
   "outputs": [],
   "source": [
    "file_path = 'Dataset Abitudini Sportive.csv'\n",
    "df = pd.read_csv(file_path)\n",
    "df_originale = df.copy()"
   ]
  },
  {
   "cell_type": "markdown",
   "metadata": {},
   "source": [
    "### `df.head()` e `df.info()`\n",
    "Diamo una prima occhiata ai dati per avere un'idea delle colonne, dei tipi di dato e dei valori mancanti."
   ]
  },
  {
   "cell_type": "code",
   "execution_count": null,
   "metadata": {},
   "outputs": [],
   "source": [
    "print(\"Prime 5 righe:\")\n",
    "display(df.head())\n",
    "print(\"\\nInformazioni sul DataFrame:\")\n",
    "df.info()"
   ]
  },
  {
   "cell_type": "markdown",
   "metadata": {},
   "source": [
    "## 2. Analisi Esplorativa e Individuazione di Anomalie"
   ]
  },
  {
   "cell_type": "code",
   "execution_count": null,
   "metadata": {},
   "outputs": [],
   "source": [
    "df.describe()"
   ]
  },
  {
   "cell_type": "markdown",
   "metadata": {},
   "source": [
    "#### Approfondimento: Identificare gli Outlier con il Metodo IQR\n",
    "\n",
    "Un **outlier** è un valore che si discosta in modo anomalo dal resto dei dati. Può essere un errore di misurazione, un errore di inserimento dati (come i nostri `-999`), o un valore genuino ma molto raro. Gli outlier possono distorcere le nostre analisi statistiche (come la media) e i grafici.\n",
    "\n",
    "Un metodo statistico robusto per identificarli è l'**Interquartile Range (IQR)**.\n",
    "\n",
    "**Come funziona?**\n",
    "1.  **Trova i Quartili:**\n",
    "    *   **Primo Quartile (Q1):** Il valore al di sotto del quale si trova il 25% dei dati.\n",
    "    *   **Terzo Quartile (Q3):** Il valore al di sotto del quale si trova il 75% dei dati.\n",
    "2.  **Calcola l'IQR:**\n",
    "    *   `IQR = Q3 - Q1`. Questo intervallo contiene il 50% centrale dei dati.\n",
    "3.  **Definisci i \"Baffi\" (Whiskers):**\n",
    "    *   **Limite Inferiore:** `Q1 - 1.5 * IQR`\n",
    "    *   **Limite Superiore:** `Q3 + 1.5 * IQR`\n",
    "\n",
    "Qualsiasi valore che cade al di fuori di questi limiti è considerato un outlier.\n",
    "\n",
    "**Esempio Pratico:** Verifichiamo se i valori `-999` nella colonna `ore_settimanali_allenamento` vengono identificati come outlier."
   ]
  },
  {
   "cell_type": "code",
   "execution_count": null,
   "metadata": {},
   "outputs": [],
   "source": [
    "# Calcoliamo Q1, Q3 e IQR per la colonna originale\n",
    "Q1 = df_originale['ore_settimanali_allenamento'].quantile(0.25)\n",
    "Q3 = df_originale['ore_settimanali_allenamento'].quantile(0.75)\n",
    "IQR = Q3 - Q1\n",
    "\n",
    "# Definiamo i limiti\n",
    "limite_inferiore = Q1 - 1.5 * IQR\n",
    "limite_superiore = Q3 + 1.5 * IQR\n",
    "\n",
    "print(f\"Q1: {Q1}\")\n",
    "print(f\"Q3: {Q3}\")\n",
    "print(f\"IQR: {IQR}\")\n",
    "print(f\"Limite Inferiore: {limite_inferiore}\")\n",
    "print(f\"Limite Superiore: {limite_superiore}\")"
   ]
  },
  {
   "cell_type": "code",
   "execution_count": null,
   "metadata": {},
   "outputs": [],
   "source": [
    "# Filtriamo il DataFrame per trovare i valori che sono al di fuori dei limiti\n",
    "outliers = df_originale[\n",
    "    (df_originale['ore_settimanali_allenamento'] < limite_inferiore) | \n",
    "    (df_originale['ore_settimanali_allenamento'] > limite_superiore)\n",
    "]\n",
    "\n",
    "print(\"Outlier identificati:\")\n",
    "display(outliers)"
   ]
  },
  {
   "cell_type": "markdown",
   "metadata": {},
   "source": [
    "**Conclusione:** Come possiamo vedere, il metodo IQR ha identificato correttamente i valori `-999` come outlier, poiché sono molto al di sotto del limite inferiore calcolato. Questo ci dà una giustificazione statistica, oltre che logica, per la loro rimozione o sostituzione.\n",
    "\n",
    "### Esercizio: Trova gli outlier in `attrezzatura_comprata_annualmente`\n",
    "\n",
    "Applica lo stesso metodo IQR alla colonna `attrezzatura_comprata_annualmente` del `df_originale` per vedere quali valori vengono classificati come anomali. Stampa a schermo i limiti e gli outlier trovati."
   ]
  },
  {
   "cell_type": "code",
   "execution_count": null,
   "metadata": {},
   "outputs": [],
   "source": [
    "# Il tuo codice qui\n"
   ]
  },
  {
   "cell_type": "markdown",
   "metadata": {},
   "source": [
    "## 3. Pulizia dei Dati\n",
    "Standardizziamo i valori anomali in `np.nan` e convertiamo le colonne in numeriche."
   ]
  },
  {
   "cell_type": "code",
   "execution_count": null,
   "metadata": {},
   "outputs": [],
   "source": [
    "df_pulito = df.copy()\n",
    "df_pulito.replace([-999, '***', ''], np.nan, inplace=True)\n",
    "\n",
    "# Identifichiamo le colonne categoriche per esclusione\n",
    "colonne_categoriche = ['sesso', 'obiettivo_allenamento_label', 'frequenza_allenamento', 'motivazione_allenamento_label', 'tempo_riposo_settimanale_label']\n",
    "\n",
    "for col in df_pulito.columns:\n",
    "    if col not in colonne_categoriche:\n",
    "        df_pulito[col] = pd.to_numeric(df_pulito[col], errors='coerce')\n",
    "\n",
    "print(\"Valori mancanti dopo la standardizzazione e conversione:\")\n",
    "df_pulito.isnull().sum()"
   ]
  },
  {
   "cell_type": "markdown",
   "metadata": {},
   "source": [
    "### Strategie per Gestire i Dati Mancanti\n",
    "**Strategia 1: Eliminazione (`dropna`)**"
   ]
  },
  {
   "cell_type": "code",
   "execution_count": null,
   "metadata": {},
   "outputs": [],
   "source": [
    "print(f\"Forma originale: {df_pulito.shape}\")\n",
    "print(f\"Forma dopo dropna(): {df_pulito.dropna().shape}\")"
   ]
  },
  {
   "cell_type": "markdown",
   "metadata": {},
   "source": [
    "**Strategia 2: Imputazione (Media/Mediana/Moda)**"
   ]
  },
  {
   "cell_type": "code",
   "execution_count": null,
   "metadata": {},
   "outputs": [],
   "source": [
    "for colonna in df_pulito.columns:\n",
    "    if df_pulito[colonna].isnull().any():\n",
    "        if pd.api.types.is_numeric_dtype(df_pulito[colonna]):\n",
    "            df_pulito[colonna].fillna(df_pulito[colonna].median(), inplace=True)\n",
    "        else:\n",
    "            df_pulito[colonna].fillna(df_pulito[colonna].mode()[0], inplace=True)\n",
    "df_pulito.isnull().sum()"
   ]
  },
  {
   "cell_type": "markdown",
   "metadata": {},
   "source": [
    "### Guida alla Scelta del Grafico Corretto\n",
    "\n",
    "Prima di creare i grafici, è fondamentale capire *perché* scegliamo un tipo di grafico rispetto a un altro. La scelta dipende principalmente da due fattori:\n",
    "1.  **Il tipo di dati** che vogliamo analizzare (quantitativi o categorici).\n",
    "2.  **L'obiettivo dell'analisi**: cosa vogliamo scoprire o comunicare?\n",
    "\n",
    "#### 1. Dati Quantitativi (Numerici)\n",
    "- **Cosa sono?** Dati che rappresentano una quantità misurabile, come l'età, l'altezza, o le `ore_settimanali_allenamento`.\n",
    "- **Obiettivo:** Capire la **distribuzione** dei dati. Vogliamo rispondere a domande come: \"Quali sono i valori più comuni?\", \"I dati sono concentrati attorno a una media o sono sparsi?\", \"Ci sono picchi o anomalie?\".\n",
    "- **Grafico da usare:** **Istogramma (`Histogram`)**.\n",
    "- **Perché?** Un istogramma raggruppa i dati in \"intervalli\" (o *bins*) e mostra quanti valori cadono in ciascun intervallo. Questo ci dà una visione immediata della forma della distribuzione, della sua tendenza centrale e della sua dispersione.\n",
    "\n",
    "#### 2. Dati Categorici (Qualitativi)\n",
    "- **Cosa sono?** Dati che rappresentano categorie o etichette, come `obiettivo_allenamento_label` (es. \"Perdita peso\", \"Miglioramento muscolare\") o `tempo_riposo_settimanale_label`.\n",
    "- **Obiettivo:** Confrontare la **frequenza** o il conteggio di ciascuna categoria. Vogliamo rispondere a domande come: \"Qual è la categoria più comune?\", \"Quante persone appartengono a ciascun gruppo?\".\n",
    "- **Grafico da usare:** **Grafico a Barre (`Bar Chart` o `Countplot`)**.\n",
    "- **Perché?** Un grafico a barre assegna una barra a ogni categoria. L'altezza (o la lunghezza) della barra è proporzionale al numero di osservazioni in quella categoria, rendendo il confronto tra le diverse categorie semplice e immediato."
   ]
  },
  {
   "cell_type": "markdown",
   "metadata": {},
   "source": [
    "## 4. Visualizzazione: L'Impatto della Pulizia dei Dati\n",
    "\n",
    "Ora che i nostri dati sono puliti, possiamo finalmente visualizzarli per capirne la struttura. Una delle pratiche più efficaci è confrontare i grafici **prima** e **dopo** la pulizia per vedere l'impatto del nostro lavoro.\n",
    "\n",
    "### Esempio: Istogramma per `ore_settimanali_allenamento`\n",
    "\n",
    "Analizziamo la distribuzione delle ore di allenamento. Creeremo due istogrammi affiancati: uno con i dati originali (`df_originale`) e uno con i dati puliti e imputati (`df_pulito`)."
   ]
  },
  {
   "cell_type": "code",
   "execution_count": null,
   "metadata": {},
   "outputs": [],
   "source": [
    "fig, (ax1, ax2) = plt.subplots(1, 2, figsize=(15, 6))\n",
    "\n",
    "# Grafico 1: Dati Originali\n",
    "# Convertiamo in numerico prima di plottare per evitare errori\n",
    "dati_originali_numerici = pd.to_numeric(df_originale['ore_settimanali_allenamento'], errors='coerce')\n",
    "ax1.hist(dati_originali_numerici.dropna(), bins=20, color='salmon', edgecolor='black')\n",
    "ax1.set_title('Prima della Pulizia')\n",
    "ax1.set_xlabel('Ore di Allenamento Settimanali')\n",
    "ax1.set_ylabel('Frequenza')\n",
    "\n",
    "# Grafico 2: Dati Puliti\n",
    "ax2.hist(df_pulito['ore_settimanali_allenamento'], bins=20, color='skyblue', edgecolor='black')\n",
    "ax2.set_title('Dopo la Pulizia e Imputazione')\n",
    "ax2.set_xlabel('Ore di Allenamento Settimanali')\n",
    "ax2.set_ylabel('Frequenza')\n",
    "\n",
    "plt.suptitle('Impatto della Pulizia sulla Distribuzione delle Ore di Allenamento', fontsize=16)\n",
    "plt.show()"
   ]
  },
  {
   "cell_type": "markdown",
   "metadata": {},
   "source": [
    "**Domanda di Riflessione:** Osserva i due grafici. Quali differenze noti? In che modo i valori anomali (`-999`) nel dataset originale influenzavano la visualizzazione? Perché il secondo grafico è più utile per l'analisi?"
   ]
  },
  {
   "cell_type": "markdown",
   "metadata": {},
   "source": [
    "### Esercizio: Visualizza l'impatto della pulizia su `attrezzatura_comprata_annualmente`\n",
    "\n",
    "Ora tocca a te! Replica l'analisi precedente per la colonna `attrezzatura_comprata_annualmente`.\n",
    "\n",
    "**Istruzioni:**\n",
    "1.  Crea una figura con due subplot affiancati (`fig, (ax1, ax2) = ...`).\n",
    "2.  Nel primo subplot (`ax1`), crea un istogramma della colonna `attrezzatura_comprata_annualmente` usando il DataFrame originale (`df_originale`).\n",
    "3.  Nel secondo subplot (`ax2`), crea un istogramma della stessa colonna usando il DataFrame pulito (`df_pulito`).\n",
    "4.  Aggiungi titoli appropriati a ciascun grafico e un titolo generale alla figura."
   ]
  },
  {
   "cell_type": "code",
   "execution_count": null,
   "metadata": {},
   "outputs": [],
   "source": [
    "# Il tuo codice qui\n"
   ]
  },
  {
   "cell_type": "markdown",
   "metadata": {},
   "source": [
    "## 5. Analisi Guidata: Formulazione e Verifica di Ipotesi\n",
    "\n",
    "Ora che i nostri dati sono puliti e abbiamo imparato a visualizzarli, possiamo passare alla fase più interessante: usare i dati per rispondere a delle domande. In questa sezione, formuleremo due ipotesi e useremo Pandas per verificarle.\n",
    "\n",
    "### Ipotesi 1: Obiettivo di Allenamento e Spesa per Attrezzatura\n",
    "\n",
    "**Ipotesi:** \"Le persone che si allenano per la 'Perdita peso' acquistano in media meno attrezzatura (`attrezzatura_comprata_annualmente`) rispetto a quelle che puntano al 'Miglioramento muscolare'.\"\n",
    "\n",
    "**Logica:** Questa ipotesi si basa sull'idea che l'allenamento per il miglioramento muscolare potrebbe richiedere una maggiore varietà di attrezzi (pesi, macchine, ecc.) rispetto a quello per la perdita di peso, che potrebbe essere più focalizzato su esercizi a corpo libero o cardio.\n",
    "\n",
    "**Azione:** Per verificarlo, dobbiamo:\n",
    "1.  Filtrare il DataFrame per isolare solo le righe che corrispondono ai due obiettivi: 'Perdita peso' e 'Miglioramento muscolare'.\n",
    "2.  Raggruppare i dati per `obiettivo_allenamento_label`.\n",
    "3.  Calcolare la media di `attrezzatura_comprata_annualmente` per ciascun gruppo."
   ]
  },
  {
   "cell_type": "code",
   "execution_count": null,
   "metadata": {},
   "outputs": [],
   "source": [
    "# 1. Filtriamo il DataFrame per i due gruppi di interesse\n",
    "df_filtrato = df_pulito[df_pulito['obiettivo_allenamento_label'].isin(['Perdita peso', 'Miglioramento muscolare'])]\n",
    "\n",
    "# 2. Raggruppiamo per obiettivo e calcoliamo la media della spesa per attrezzatura\n",
    "media_spesa_per_obiettivo = df_filtrato.groupby('obiettivo_allenamento_label')['attrezzatura_comprata_annualmente'].mean()\n",
    "\n",
    "print(\"Spesa media annuale per attrezzatura in base all'obiettivo:\")\n",
    "print(media_spesa_per_obiettivo)"
   ]
  },
  {
   "cell_type": "markdown",
   "metadata": {},
   "source": [
    "#### Interpretazione Dettagliata dei Risultati\n",
    "\n",
    "**Analisi del Risultato:**\n",
    "Il codice che abbiamo eseguito ci ha restituito due valori numerici. Per il gruppo 'Miglioramento muscolare', la spesa media annuale è di circa 153.85 euro, mentre per il gruppo 'Perdita peso' è di circa 98.75 euro.\n",
    "\n",
    "**Conclusione:**\n",
    "Il risultato **conferma la nostra ipotesi iniziale**. I dati mostrano che, in media, le persone il cui obiettivo è il miglioramento muscolare spendono significativamente di più in attrezzatura rispetto a coloro che mirano alla perdita di peso (circa 55 euro in più all'anno). \n",
    "\n",
    "**Contesto Reale:**\n",
    "Questa differenza suggerisce che esistono comportamenti di acquisto diversi legati a obiettivi di fitness differenti. Potrebbe implicare che chi si concentra sulla massa muscolare tende ad allestire una palestra domestica più fornita, acquistando pesi, manubri, bilancieri o macchinari specifici. Al contrario, chi punta a dimagrire potrebbe preferire attività che richiedono meno attrezzatura costosa, come la corsa, l'allenamento a corpo libero o l'utilizzo di app per il fitness. Questa informazione potrebbe essere molto utile, ad esempio, a un'azienda che vende articoli sportivi per calibrare le proprie campagne di marketing in modo più efficace, rivolgendosi a ciascun segmento di clientela con i prodotti più adatti."
   ]
  },
  {
   "cell_type": "markdown",
   "metadata": {},
   "source": [
    "### Ipotesi 2: Frequenza di Allenamento e Soddisfazione\n",
    "\n",
    "**Ipotesi:** \"Esiste una relazione tra la `frequenza_allenamento` e la `soddisfazione_allenamento`? In particolare, ci aspettiamo che a una maggiore frequenza di allenamento corrisponda una maggiore soddisfazione.\"\n",
    "\n",
    "**Logica:** L'idea è che le persone che si allenano più spesso siano più motivate, vedano più risultati e, di conseguenza, riportino un livello di soddisfazione più alto.\n",
    "\n",
    "**Azione:** Per investigare questa relazione, possiamo:\n",
    "1.  Raggruppare il DataFrame per `frequenza_allenamento`.\n",
    "2.  Calcolare la media della `soddisfazione_allenamento` per ogni livello di frequenza.\n",
    "3.  Visualizzare il risultato con un grafico a barre per rendere la relazione più evidente."
   ]
  },
  {
   "cell_type": "code",
   "execution_count": null,
   "metadata": {},
   "outputs": [],
   "source": [
    "# 1. Raggruppiamo per frequenza e calcoliamo la soddisfazione media\n",
    "soddisfazione_per_frequenza = df_pulito.groupby('frequenza_allenamento')['soddisfazione_allenamento'].mean().sort_index()\n",
    "\n",
    "print(\"Soddisfazione media per frequenza di allenamento:\")\n",
    "print(soddisfazione_per_frequenza)\n",
    "\n",
    "# 2. Visualizziamo i risultati per una migliore interpretazione\n",
    "soddisfazione_per_frequenza.plot(kind='bar', figsize=(10, 6), color='c', edgecolor='black')\n",
    "plt.title('Soddisfazione Media vs. Frequenza di Allenamento')\n",
    "plt.xlabel('Frequenza di Allenamento')\n",
    "plt.ylabel('Soddisfazione Media (scala 1-10)')\n",
    "plt.xticks(rotation=45)\n",
    "plt.grid(axis='y', linestyle='--')\n",
    "plt.show()"
   ]
  },
  {
   "cell_type": "markdown",
   "metadata": {},
   "source": [
    "#### Interpretazione Dettagliata dei Risultati\n",
    "\n",
    "**Analisi del Risultato:**\n",
    "L'output numerico e, in modo ancora più chiaro, il grafico a barre mostrano un andamento crescente. La soddisfazione media parte da un valore di circa 5.8 per chi si allena '1-2 volte a settimana', sale a 6.8 per chi si allena '3-4 volte a settimana' e raggiunge il picco di 8.0 per il gruppo '5-7 volte a settimana'.\n",
    "\n",
    "**Conclusione:**\n",
    "I dati **supportano fortemente la nostra ipotesi**. Esiste una chiara relazione positiva e quasi lineare tra la frequenza con cui una persona si allena e il suo livello di soddisfazione. Più spesso le persone si allenano, più tendono a essere soddisfatte del loro percorso di fitness.\n",
    "\n",
    "**Contesto Reale:**\n",
    "Questa scoperta evidenzia l'importanza della costanza nell'allenamento non solo per ottenere risultati fisici, ma anche per il benessere psicologico percepito. La soddisfazione potrebbe derivare da molteplici fattori legati alla frequenza: il rilascio di endorfine, una maggiore percezione dei progressi, il senso di disciplina e autoefficacia. Per un personal trainer o una palestra, questo dato è fondamentale: potrebbe suggerire che incentivare i clienti a mantenere una frequenza di allenamento costante (ad esempio, con programmi fedeltà o sfide) è una strategia chiave per aumentarne la soddisfazione e, di conseguenza, la fidelizzazione a lungo termine. In sostanza, un cliente più costante è un cliente più felice e più propenso a rimanere."
   ]
  },
  {
   "cell_type": "markdown",
   "metadata": {},
   "source": [
    "## Soluzioni"
   ]
  },
  {
   "cell_type": "markdown",
   "metadata": {},
   "source": [
    "### Soluzione Esercizio: Trova gli outlier in `attrezzatura_comprata_annualmente`"
   ]
  },
  {
   "cell_type": "code",
   "execution_count": null,
   "metadata": {},
   "outputs": [],
   "source": [
    "# Calcoliamo Q1, Q3 e IQR per la colonna\n",
    "Q1_attrezzatura = df_originale['attrezzatura_comprata_annualmente'].quantile(0.25)\n",
    "Q3_attrezzatura = df_originale['attrezzatura_comprata_annualmente'].quantile(0.75)\n",
    "IQR_attrezzatura = Q3_attrezzatura - Q1_attrezzatura\n",
    "\n",
    "# Definiamo i limiti\n",
    "limite_inferiore_attrezzatura = Q1_attrezzatura - 1.5 * IQR_attrezzatura\n",
    "limite_superiore_attrezzatura = Q3_attrezzatura + 1.5 * IQR_attrezzatura\n",
    "\n",
    "print(f\"Q1: {Q1_attrezzatura}\")\n",
    "print(f\"Q3: {Q3_attrezzatura}\")\n",
    "print(f\"IQR: {IQR_attrezzatura}\")\n",
    "print(f\"Limite Inferiore: {limite_inferiore_attrezzatura}\")\n",
    "print(f\"Limite Superiore: {limite_superiore_attrezzatura}\")\n",
    "\n",
    "# Filtriamo per trovare gli outlier\n",
    "outliers_attrezzatura = df_originale[\n",
    "    (df_originale['attrezzatura_comprata_annualmente'] < limite_inferiore_attrezzatura) | \n",
    "    (df_originale['attrezzatura_comprata_annualmente'] > limite_superiore_attrezzatura)\n",
    "]\n",
    "\n",
    "print(\"\\nOutlier identificati in 'attrezzatura_comprata_annualmente':\")\n",
    "display(outliers_attrezzatura)"
   ]
  },
  {
   "cell_type": "markdown",
   "metadata": {},
   "source": [
    "### Soluzione Esercizio: Visualizza l'impatto della pulizia su `attrezzatura_comprata_annualmente`"
   ]
  },
  {
   "cell_type": "code",
   "execution_count": null,
   "metadata": {},
   "outputs": [],
   "source": [
    "fig, (ax1, ax2) = plt.subplots(1, 2, figsize=(15, 6))\n",
    "\n",
    "# Grafico 1: Dati Originali\n",
    "# Convertiamo in numerico prima di plottare per evitare errori\n",
    "dati_originali_numerici_attrezzatura = pd.to_numeric(df_originale['attrezzatura_comprata_annualmente'], errors='coerce')\n",
    "ax1.hist(dati_originali_numerici_attrezzatura.dropna(), bins=20, color='salmon', edgecolor='black')\n",
    "ax1.set_title('Prima della Pulizia')\n",
    "ax1.set_xlabel('Attrezzatura Comprata Annualmente (€)')\n",
    "ax1.set_ylabel('Frequenza')\n",
    "\n",
    "# Grafico 2: Dati Puliti\n",
    "ax2.hist(df_pulito['attrezzatura_comprata_annualmente'], bins=20, color='skyblue', edgecolor='black')\n",
    "ax2.set_title('Dopo la Pulizia e Imputazione')\n",
    "ax2.set_xlabel('Attrezzatura Comprata Annualmente (€)')\n",
    "ax2.set_ylabel('Frequenza')\n",
    "\n",
    "plt.suptitle('Impatto della Pulizia sulla Distribuzione della Spesa per Attrezzatura', fontsize=16)\n",
    "plt.show()"
   ]
  }
 ],
 "metadata": {
  "kernelspec": {
   "display_name": "Python 3",
   "language": "python",
   "name": "python3"
  },
  "language_info": {
   "codemirror_mode": {
    "name": "ipython",
    "version": 3
   },
   "file_extension": ".py",
   "mimetype": "text/x-python",
   "name": "python",
   "nbconvert_exporter": "python",
   "pygments_lexer": "ipython3",
   "version": "3.10.9"
  }
 },
 "nbformat": 4,
 "nbformat_minor": 5
}
